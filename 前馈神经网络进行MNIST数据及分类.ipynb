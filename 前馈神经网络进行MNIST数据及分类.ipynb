{
 "cells": [
  {
   "cell_type": "code",
   "execution_count": 1,
   "metadata": {},
   "outputs": [],
   "source": [
    "import tensorflow as tf\n",
    "import matplotlib.pyplot as plt"
   ]
  },
  {
   "cell_type": "code",
   "execution_count": 2,
   "metadata": {},
   "outputs": [
    {
     "data": {
      "text/plain": [
       "'2.3.0'"
      ]
     },
     "execution_count": 2,
     "metadata": {},
     "output_type": "execute_result"
    }
   ],
   "source": [
    "tf.__version__"
   ]
  },
  {
   "cell_type": "code",
   "execution_count": 3,
   "metadata": {},
   "outputs": [],
   "source": [
    "# 输入层 h0 784 =28*28\n",
    "# 隐藏层 h1 256 \n",
    "# 隐藏层 h2 128 \n",
    "# 输出层 h3 10"
   ]
  },
  {
   "cell_type": "code",
   "execution_count": 4,
   "metadata": {},
   "outputs": [],
   "source": [
    "#初始化参数\n",
    "w1 =tf.Variable(tf.random.truncated_normal([784,256],stddev=0.1))\n",
    "w2 =tf.Variable(tf.random.truncated_normal([256,128],stddev=0.1))\n",
    "w3 =tf.Variable(tf.random.truncated_normal([128,10],stddev=0.1))\n",
    "\n",
    "b1 = tf.Variable(tf.zeros([256]))\n",
    "b2 = tf.Variable(tf.zeros([128]))\n",
    "b3 = tf.Variable(tf.zeros([10]))"
   ]
  },
  {
   "cell_type": "code",
   "execution_count": 5,
   "metadata": {},
   "outputs": [],
   "source": [
    "#w1,b1"
   ]
  },
  {
   "cell_type": "code",
   "execution_count": 6,
   "metadata": {},
   "outputs": [],
   "source": [
    "(x_train, y_train), (x_test, y_test) = tf.keras.datasets.mnist.load_data()"
   ]
  },
  {
   "cell_type": "code",
   "execution_count": 7,
   "metadata": {},
   "outputs": [
    {
     "data": {
      "text/plain": [
       "(((60000, 28, 28), (60000,)), ((10000, 28, 28), (10000,)))"
      ]
     },
     "execution_count": 7,
     "metadata": {},
     "output_type": "execute_result"
    }
   ],
   "source": [
    "(x_train.shape, y_train.shape), (x_test.shape, y_test.shape) "
   ]
  },
  {
   "cell_type": "code",
   "execution_count": 8,
   "metadata": {},
   "outputs": [
    {
     "data": {
      "text/plain": [
       "numpy.ndarray"
      ]
     },
     "execution_count": 8,
     "metadata": {},
     "output_type": "execute_result"
    }
   ],
   "source": [
    "type(x_train)"
   ]
  },
  {
   "cell_type": "code",
   "execution_count": 9,
   "metadata": {},
   "outputs": [],
   "source": [
    "x_train = tf.convert_to_tensor(x_train,dtype=tf.float32)/255.\n",
    "y_train = tf.convert_to_tensor(y_train,dtype=tf.int32)"
   ]
  },
  {
   "cell_type": "code",
   "execution_count": 10,
   "metadata": {},
   "outputs": [
    {
     "data": {
      "text/plain": [
       "TensorShape([60000, 784])"
      ]
     },
     "execution_count": 10,
     "metadata": {},
     "output_type": "execute_result"
    }
   ],
   "source": [
    "# (60000,784)\n",
    "x_train =tf.reshape(x_train,[-1,28*28])  #-1代表任意多个\n",
    "x_train.shape"
   ]
  },
  {
   "cell_type": "code",
   "execution_count": 11,
   "metadata": {},
   "outputs": [
    {
     "data": {
      "text/plain": [
       "tensorflow.python.framework.ops.EagerTensor"
      ]
     },
     "execution_count": 11,
     "metadata": {},
     "output_type": "execute_result"
    }
   ],
   "source": [
    "type(x_train)"
   ]
  },
  {
   "cell_type": "markdown",
   "metadata": {},
   "source": [
    "# 2 完成一次前向计算"
   ]
  },
  {
   "cell_type": "code",
   "execution_count": 12,
   "metadata": {},
   "outputs": [
    {
     "data": {
      "text/plain": [
       "(TensorShape([60000, 784]), TensorShape([784, 256]), TensorShape([256]))"
      ]
     },
     "execution_count": 12,
     "metadata": {},
     "output_type": "execute_result"
    }
   ],
   "source": [
    "x_train.shape,w1.shape,b1.shape"
   ]
  },
  {
   "cell_type": "code",
   "execution_count": 13,
   "metadata": {},
   "outputs": [
    {
     "data": {
      "text/plain": [
       "TensorShape([60000, 256])"
      ]
     },
     "execution_count": 13,
     "metadata": {},
     "output_type": "execute_result"
    }
   ],
   "source": [
    "# h1: net1(z=sum(wx+b)) out1(f(z))\n",
    "# [60000,784]@[784,256]+[256]\n",
    "net1 = x_train@w1 + tf.broadcast_to(b1,[x_train.shape[0],256])\n",
    "out1 = tf.nn.relu(net1)\n",
    "out1.shape"
   ]
  },
  {
   "cell_type": "code",
   "execution_count": 14,
   "metadata": {},
   "outputs": [
    {
     "data": {
      "text/plain": [
       "TensorShape([60000, 128])"
      ]
     },
     "execution_count": 14,
     "metadata": {},
     "output_type": "execute_result"
    }
   ],
   "source": [
    "# h2: net2(z=sum(wx+b)) out1(f(z))\n",
    "# [60000,256]@[256,128]+[128]\n",
    "net2 = out1@w2 + b2\n",
    "out2 = tf.nn.relu(net2)\n",
    "out2.shape"
   ]
  },
  {
   "cell_type": "code",
   "execution_count": 15,
   "metadata": {},
   "outputs": [
    {
     "data": {
      "text/plain": [
       "TensorShape([60000, 10])"
      ]
     },
     "execution_count": 15,
     "metadata": {},
     "output_type": "execute_result"
    }
   ],
   "source": [
    "# h3: net3(z=sum(wx+b)) out1(f(z))\n",
    "# [60000,128]@[128,10]+[10]\n",
    "net3 = out2@w3 + b3\n",
    "out3 = tf.nn.softmax(net3)\n",
    "out3.shape"
   ]
  },
  {
   "cell_type": "code",
   "execution_count": 16,
   "metadata": {},
   "outputs": [
    {
     "data": {
      "text/plain": [
       "<tf.Tensor: shape=(60000, 10), dtype=float32, numpy=\n",
       "array([[0.10204472, 0.0779084 , 0.0484806 , ..., 0.19695051, 0.04349801,\n",
       "        0.03354472],\n",
       "       [0.11876485, 0.09845483, 0.07231752, ..., 0.0973717 , 0.07871947,\n",
       "        0.08635692],\n",
       "       [0.24010159, 0.07428236, 0.05122573, ..., 0.08930605, 0.12808084,\n",
       "        0.04568657],\n",
       "       ...,\n",
       "       [0.18511285, 0.05718812, 0.06010796, ..., 0.10186294, 0.09804599,\n",
       "        0.07580586],\n",
       "       [0.12212225, 0.11493826, 0.05924354, ..., 0.06182413, 0.05314185,\n",
       "        0.08350914],\n",
       "       [0.2160503 , 0.05151211, 0.04637839, ..., 0.10219729, 0.08174842,\n",
       "        0.05673639]], dtype=float32)>"
      ]
     },
     "execution_count": 16,
     "metadata": {},
     "output_type": "execute_result"
    }
   ],
   "source": [
    "out3"
   ]
  },
  {
   "cell_type": "code",
   "execution_count": 17,
   "metadata": {},
   "outputs": [
    {
     "data": {
      "text/plain": [
       "<tf.Tensor: shape=(60000,), dtype=int32, numpy=array([5, 0, 4, ..., 5, 6, 8])>"
      ]
     },
     "execution_count": 17,
     "metadata": {},
     "output_type": "execute_result"
    }
   ],
   "source": [
    "y_train"
   ]
  },
  {
   "cell_type": "code",
   "execution_count": 18,
   "metadata": {},
   "outputs": [],
   "source": [
    "y_train = tf.one_hot(y_train,depth = 10)"
   ]
  },
  {
   "cell_type": "code",
   "execution_count": 19,
   "metadata": {},
   "outputs": [
    {
     "data": {
      "text/plain": [
       "<tf.Tensor: shape=(60000, 10), dtype=float32, numpy=\n",
       "array([[0., 0., 0., ..., 0., 0., 0.],\n",
       "       [1., 0., 0., ..., 0., 0., 0.],\n",
       "       [0., 0., 0., ..., 0., 0., 0.],\n",
       "       ...,\n",
       "       [0., 0., 0., ..., 0., 0., 0.],\n",
       "       [0., 0., 0., ..., 0., 0., 0.],\n",
       "       [0., 0., 0., ..., 0., 1., 0.]], dtype=float32)>"
      ]
     },
     "execution_count": 19,
     "metadata": {},
     "output_type": "execute_result"
    }
   ],
   "source": [
    "y_train"
   ]
  },
  {
   "cell_type": "code",
   "execution_count": 20,
   "metadata": {},
   "outputs": [
    {
     "data": {
      "text/plain": [
       "TensorShape([60000, 10])"
      ]
     },
     "execution_count": 20,
     "metadata": {},
     "output_type": "execute_result"
    }
   ],
   "source": [
    "y_train.shape"
   ]
  },
  {
   "cell_type": "code",
   "execution_count": 21,
   "metadata": {},
   "outputs": [
    {
     "data": {
      "text/plain": [
       "<tf.Tensor: shape=(), dtype=float32, numpy=2.3076797>"
      ]
     },
     "execution_count": 21,
     "metadata": {},
     "output_type": "execute_result"
    }
   ],
   "source": [
    "loss = tf.nn.softmax_cross_entropy_with_logits(labels=y_train, logits=out3)\n",
    "loss =tf.reduce_mean(loss)\n",
    "loss"
   ]
  },
  {
   "cell_type": "markdown",
   "metadata": {},
   "source": [
    "# 3 反向传播"
   ]
  },
  {
   "cell_type": "code",
   "execution_count": 22,
   "metadata": {},
   "outputs": [],
   "source": [
    "with tf.GradientTape() as tape:\n",
    "    tape.watch([w1,b1,w2,b2,w3,b3])\n",
    "    out3 = tf.nn.softmax((tf.nn.relu((tf.nn.relu((x_train@w1 + tf.broadcast_to(b1,[x_train.shape[0],256]))))@w2 + b2))@w3 + b3)\n",
    "    loss = tf.reduce_mean(tf.nn.softmax_cross_entropy_with_logits(labels=y_train, logits=out3))"
   ]
  },
  {
   "cell_type": "code",
   "execution_count": 23,
   "metadata": {},
   "outputs": [
    {
     "data": {
      "text/plain": [
       "<tf.Tensor: shape=(), dtype=float32, numpy=2.3076797>"
      ]
     },
     "execution_count": 23,
     "metadata": {},
     "output_type": "execute_result"
    }
   ],
   "source": [
    "loss"
   ]
  },
  {
   "cell_type": "code",
   "execution_count": 24,
   "metadata": {},
   "outputs": [],
   "source": [
    "grads = tape.gradient(loss,[w1,b1,w2,b2,w3,b3])"
   ]
  },
  {
   "cell_type": "code",
   "execution_count": 25,
   "metadata": {},
   "outputs": [],
   "source": [
    "# grads[0],grads[1]"
   ]
  },
  {
   "cell_type": "code",
   "execution_count": 26,
   "metadata": {},
   "outputs": [],
   "source": [
    "lr = 0.01"
   ]
  },
  {
   "cell_type": "code",
   "execution_count": 27,
   "metadata": {},
   "outputs": [],
   "source": [
    "# 更新梯度\n",
    "# w = w-lr*grads\n",
    "# w -= lr*grads\n",
    "# tf.assign_sub"
   ]
  },
  {
   "cell_type": "code",
   "execution_count": 28,
   "metadata": {},
   "outputs": [
    {
     "name": "stdout",
     "output_type": "stream",
     "text": [
      "0 loss: 2.3076796531677246\n",
      "100 loss: 2.2943384647369385\n",
      "200 loss: 2.276362419128418\n",
      "300 loss: 2.2506511211395264\n",
      "400 loss: 2.214660882949829\n",
      "500 loss: 2.1731033325195312\n",
      "600 loss: 2.137152910232544\n",
      "700 loss: 2.1102612018585205\n",
      "800 loss: 2.088287115097046\n",
      "900 loss: 2.0644962787628174\n",
      "1000 loss: 2.035543203353882\n",
      "1100 loss: 2.0034372806549072\n",
      "1200 loss: 1.9680982828140259\n",
      "1300 loss: 1.9354956150054932\n",
      "1400 loss: 1.907530426979065\n",
      "1500 loss: 1.88223397731781\n",
      "1600 loss: 1.8603167533874512\n",
      "1700 loss: 1.8419945240020752\n",
      "1800 loss: 1.8268487453460693\n",
      "1900 loss: 1.8143377304077148\n",
      "2000 loss: 1.8039273023605347\n",
      "2100 loss: 1.7951716184616089\n",
      "2200 loss: 1.7877177000045776\n",
      "2300 loss: 1.7812994718551636\n",
      "2400 loss: 1.7757177352905273\n",
      "2500 loss: 1.7708193063735962\n",
      "2600 loss: 1.7664867639541626\n",
      "2700 loss: 1.76262629032135\n",
      "2800 loss: 1.759162187576294\n",
      "2900 loss: 1.7560372352600098\n",
      "3000 loss: 1.753204345703125\n",
      "3100 loss: 1.7506223917007446\n",
      "3200 loss: 1.7482579946517944\n",
      "3300 loss: 1.7460849285125732\n",
      "3400 loss: 1.7440788745880127\n",
      "3500 loss: 1.7422200441360474\n",
      "3600 loss: 1.7404927015304565\n",
      "3700 loss: 1.738882303237915\n",
      "3800 loss: 1.7373768091201782\n",
      "3900 loss: 1.735966444015503\n",
      "4000 loss: 1.7346413135528564\n",
      "4100 loss: 1.7333931922912598\n",
      "4200 loss: 1.7322155237197876\n",
      "4300 loss: 1.7311012744903564\n",
      "4400 loss: 1.7300461530685425\n",
      "4500 loss: 1.7290445566177368\n",
      "4600 loss: 1.7280919551849365\n",
      "4700 loss: 1.727184534072876\n",
      "4800 loss: 1.7263193130493164\n",
      "4900 loss: 1.7254929542541504\n",
      "5000 loss: 1.7247023582458496\n"
     ]
    }
   ],
   "source": [
    "All_loss = []\n",
    "for step in range(5001):\n",
    "    with tf.GradientTape() as tape:\n",
    "        tape.watch([w1,b1,w2,b2,w3,b3])\n",
    "        out3 = tf.nn.softmax((tf.nn.relu((tf.nn.relu((x_train@w1 + tf.broadcast_to(b1,[x_train.shape[0],256]))))@w2 + b2))@w3 + b3)\n",
    "        loss = tf.reduce_mean(tf.nn.softmax_cross_entropy_with_logits(labels=y_train, logits=out3))\n",
    "    All_loss.append(loss)\n",
    "    grads = tape.gradient(loss,[w1,b1,w2,b2,w3,b3])\n",
    "    # 更新参数\n",
    "    w1.assign_sub(lr*grads[0])\n",
    "    b1.assign_sub(lr*grads[1])\n",
    "    w2.assign_sub(lr*grads[2])\n",
    "    b2.assign_sub(lr*grads[3])\n",
    "    w3.assign_sub(lr*grads[4])\n",
    "    b3.assign_sub(lr*grads[5])\n",
    "    # 输出\n",
    "    if step%100 == 0:\n",
    "        print(step,'loss:',float(loss))"
   ]
  },
  {
   "cell_type": "code",
   "execution_count": 29,
   "metadata": {},
   "outputs": [
    {
     "data": {
      "text/plain": [
       "[<matplotlib.lines.Line2D at 0x218a68c3160>]"
      ]
     },
     "execution_count": 29,
     "metadata": {},
     "output_type": "execute_result"
    },
    {
     "data": {
      "image/png": "[encoded data removed]",
      "text/plain": [
       "<Figure size 432x288 with 1 Axes>"
      ]
     },
     "metadata": {
      "needs_background": "light"
     },
     "output_type": "display_data"
    }
   ],
   "source": [
    "plt.plot(All_loss)"
   ]
  },
  {
   "cell_type": "markdown",
   "metadata": {},
   "source": [
    "# 测试模型 "
   ]
  },
  {
   "cell_type": "code",
   "execution_count": 30,
   "metadata": {},
   "outputs": [],
   "source": [
    "x_test= tf.convert_to_tensor(x_test,dtype=tf.float32)/255.\n",
    "y_test = tf.convert_to_tensor(y_test,dtype=tf.int32)\n",
    "x_test =tf.reshape(x_test,[-1,28*28]) "
   ]
  },
  {
   "cell_type": "code",
   "execution_count": 31,
   "metadata": {},
   "outputs": [
    {
     "data": {
      "text/plain": [
       "TensorShape([10000, 10])"
      ]
     },
     "execution_count": 31,
     "metadata": {},
     "output_type": "execute_result"
    }
   ],
   "source": [
    "out3 = tf.nn.softmax((tf.nn.relu((tf.nn.relu((x_test@w1 + b1)))@w2 + b2))@w3 + b3)\n",
    "out3.shape"
   ]
  },
  {
   "cell_type": "code",
   "execution_count": 32,
   "metadata": {},
   "outputs": [],
   "source": [
    "y_predict = tf.math.argmax(out3,axis=-1)"
   ]
  },
  {
   "cell_type": "code",
   "execution_count": 33,
   "metadata": {},
   "outputs": [
    {
     "data": {
      "text/plain": [
       "(<tf.Tensor: shape=(10000,), dtype=int64, numpy=array([7, 6, 1, ..., 4, 8, 6], dtype=int64)>,\n",
       " <tf.Tensor: shape=(10000,), dtype=int32, numpy=array([7, 2, 1, ..., 4, 5, 6])>)"
      ]
     },
     "execution_count": 33,
     "metadata": {},
     "output_type": "execute_result"
    }
   ],
   "source": [
    "y_predict,y_test"
   ]
  },
  {
   "cell_type": "code",
   "execution_count": 34,
   "metadata": {},
   "outputs": [],
   "source": [
    "y_test = tf.cast(y_test,tf.int64)"
   ]
  },
  {
   "cell_type": "code",
   "execution_count": 35,
   "metadata": {},
   "outputs": [
    {
     "data": {
      "text/plain": [
       "<tf.Tensor: shape=(10000,), dtype=bool, numpy=array([ True, False,  True, ...,  True, False,  True])>"
      ]
     },
     "execution_count": 35,
     "metadata": {},
     "output_type": "execute_result"
    }
   ],
   "source": [
    "y_c = tf.math.equal(y_predict,y_test)\n",
    "y_c"
   ]
  },
  {
   "cell_type": "code",
   "execution_count": 36,
   "metadata": {},
   "outputs": [],
   "source": [
    "y_c = tf.cast(y_c,tf.int64)"
   ]
  },
  {
   "cell_type": "code",
   "execution_count": 37,
   "metadata": {},
   "outputs": [
    {
     "data": {
      "text/plain": [
       "<tf.Tensor: shape=(), dtype=int64, numpy=7501>"
      ]
     },
     "execution_count": 37,
     "metadata": {},
     "output_type": "execute_result"
    }
   ],
   "source": [
    "tf.math.reduce_sum(y_c)"
   ]
  },
  {
   "cell_type": "code",
   "execution_count": 39,
   "metadata": {},
   "outputs": [
    {
     "data": {
      "text/plain": [
       "0.7501"
      ]
     },
     "execution_count": 39,
     "metadata": {},
     "output_type": "execute_result"
    }
   ],
   "source": [
    "r = tf.math.reduce_sum(y_c)/10000\n",
    "r.numpy()"
   ]
  },
  {
   "cell_type": "code",
   "execution_count": 44,
   "metadata": {},
   "outputs": [
    {
     "data": {
      "text/plain": [
       "(TensorShape([128, 784]), TensorShape([128, 10]))"
      ]
     },
     "execution_count": 44,
     "metadata": {},
     "output_type": "execute_result"
    }
   ],
   "source": [
    "# batch size\n",
    "batchDataset = tf.data.Dataset.from_tensor_slices((x_train,y_train)).batch(128)\n",
    "train_iter = iter(batch)\n",
    "sample = next(train_iter)\n",
    "sample[0].shape,sample[1].shape"
   ]
  },
  {
   "cell_type": "code",
   "execution_count": null,
   "metadata": {},
   "outputs": [],
   "source": [
    "#for epoch in range(100):\n",
    "#    for step,(x_batch,y_batch) in enumerate(batchDataset):   #enumerate返回索引值\n",
    "#        ...        "
   ]
  }
 ],
 "metadata": {
  "kernelspec": {
   "display_name": "Python 3",
   "language": "python",
   "name": "python3"
  },
  "language_info": {
   "codemirror_mode": {
    "name": "ipython",
    "version": 3
   },
   "file_extension": ".py",
   "mimetype": "text/x-python",
   "name": "python",
   "nbconvert_exporter": "python",
   "pygments_lexer": "ipython3",
   "version": "3.8.5"
  }
 },
 "nbformat": 4,
 "nbformat_minor": 4
}
