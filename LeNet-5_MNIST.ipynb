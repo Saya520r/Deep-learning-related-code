{
 "cells": [
  {
   "cell_type": "code",
   "execution_count": 1,
   "metadata": {},
   "outputs": [
    {
     "data": {
      "text/plain": [
       "'2.3.0'"
      ]
     },
     "execution_count": 1,
     "metadata": {},
     "output_type": "execute_result"
    }
   ],
   "source": [
    "import tensorflow as tf\n",
    "from tensorflow import keras\n",
    "tf.__version__"
   ]
  },
  {
   "cell_type": "code",
   "execution_count": 2,
   "metadata": {},
   "outputs": [],
   "source": [
    "batch = 32"
   ]
  },
  {
   "cell_type": "code",
   "execution_count": 3,
   "metadata": {},
   "outputs": [
    {
     "name": "stdout",
     "output_type": "stream",
     "text": [
      "Model: \"sequential\"\n",
      "_________________________________________________________________\n",
      "Layer (type)                 Output Shape              Param #   \n",
      "=================================================================\n",
      "conv2d (Conv2D)              (32, 26, 26, 6)           60        \n",
      "_________________________________________________________________\n",
      "max_pooling2d (MaxPooling2D) (32, 13, 13, 6)           0         \n",
      "_________________________________________________________________\n",
      "re_lu (ReLU)                 (32, 13, 13, 6)           0         \n",
      "_________________________________________________________________\n",
      "conv2d_1 (Conv2D)            (32, 11, 11, 16)          880       \n",
      "_________________________________________________________________\n",
      "max_pooling2d_1 (MaxPooling2 (32, 5, 5, 16)            0         \n",
      "_________________________________________________________________\n",
      "re_lu_1 (ReLU)               (32, 5, 5, 16)            0         \n",
      "_________________________________________________________________\n",
      "flatten (Flatten)            (32, 400)                 0         \n",
      "_________________________________________________________________\n",
      "dense (Dense)                (32, 120)                 48120     \n",
      "_________________________________________________________________\n",
      "dense_1 (Dense)              (32, 84)                  10164     \n",
      "_________________________________________________________________\n",
      "dense_2 (Dense)              (32, 10)                  850       \n",
      "=================================================================\n",
      "Total params: 60,074\n",
      "Trainable params: 60,074\n",
      "Non-trainable params: 0\n",
      "_________________________________________________________________\n"
     ]
    }
   ],
   "source": [
    "model = tf.keras.Sequential([\n",
    "    keras.layers.Conv2D(6,3),\n",
    "    keras.layers.MaxPooling2D(pool_size=2,strides=2),\n",
    "    keras.layers.ReLU(),\n",
    "    keras.layers.Conv2D(16,3),\n",
    "    keras.layers.MaxPooling2D(pool_size=2,strides=2),\n",
    "    keras.layers.ReLU(),\n",
    "    keras.layers.Flatten(),\n",
    "    keras.layers.Dense(120,activation='relu'),\n",
    "    keras.layers.Dense(84,activation='relu'),\n",
    "    keras.layers.Dense(10,activation='softmax')\n",
    "])\n",
    "\n",
    "model.build(input_shape=(batch,28,28,1))\n",
    "\n",
    "model.summary()"
   ]
  },
  {
   "cell_type": "code",
   "execution_count": 4,
   "metadata": {},
   "outputs": [],
   "source": [
    "model.compile(optimizer=keras.optimizers.Adam(),\n",
    "             loss = keras.losses.CategoricalCrossentropy(),\n",
    "             metrics = ['accuracy'])"
   ]
  },
  {
   "cell_type": "code",
   "execution_count": 5,
   "metadata": {},
   "outputs": [],
   "source": [
    "(x_train, y_train), (x_test, y_test) = tf.keras.datasets.mnist.load_data()"
   ]
  },
  {
   "cell_type": "code",
   "execution_count": 6,
   "metadata": {},
   "outputs": [],
   "source": [
    "def preprocess(x,y):\n",
    "    x = tf.cast(x, dtype=tf.float32)/255.\n",
    "    x = tf.reshape(x,[-1,28,28,1])\n",
    "    y = tf.one_hot(y,depth=10)\n",
    "    return x,y\n",
    "\n",
    "(x_train, y_train), (x_test, y_test) = tf.keras.datasets.mnist.load_data()\n",
    "train_db = tf.data.Dataset.from_tensor_slices((x_train, y_train))\n",
    "train_db = train_db.shuffle(10000)\n",
    "train_db = train_db.batch(128)\n",
    "train_db = train_db.map(preprocess)\n",
    "\n",
    "test_db = tf.data.Dataset.from_tensor_slices((x_test, y_test))\n",
    "test_db = test_db.shuffle(10000)\n",
    "test_db = test_db.batch(128)\n",
    "test_db = test_db.map(preprocess)"
   ]
  },
  {
   "cell_type": "code",
   "execution_count": 7,
   "metadata": {},
   "outputs": [
    {
     "name": "stdout",
     "output_type": "stream",
     "text": [
      "Epoch 1/5\n",
      "469/469 [==============================] - 13s 28ms/step - loss: 0.3231 - accuracy: 0.9076\n",
      "Epoch 2/5\n",
      "469/469 [==============================] - 14s 29ms/step - loss: 0.0926 - accuracy: 0.9719\n",
      "Epoch 3/5\n",
      "469/469 [==============================] - 14s 31ms/step - loss: 0.0655 - accuracy: 0.9798\n",
      "Epoch 4/5\n",
      "469/469 [==============================] - 14s 31ms/step - loss: 0.0524 - accuracy: 0.98420s - loss:\n",
      "Epoch 5/5\n",
      "469/469 [==============================] - 14s 30ms/step - loss: 0.0435 - accuracy: 0.9865\n"
     ]
    },
    {
     "data": {
      "text/plain": [
       "<tensorflow.python.keras.callbacks.History at 0x19a3ab37a60>"
      ]
     },
     "execution_count": 7,
     "metadata": {},
     "output_type": "execute_result"
    }
   ],
   "source": [
    "model.fit(train_db,epochs=5)"
   ]
  },
  {
   "cell_type": "code",
   "execution_count": null,
   "metadata": {},
   "outputs": [],
   "source": []
  }
 ],
 "metadata": {
  "kernelspec": {
   "display_name": "Python 3",
   "language": "python",
   "name": "python3"
  },
  "language_info": {
   "codemirror_mode": {
    "name": "ipython",
    "version": 3
   },
   "file_extension": ".py",
   "mimetype": "text/x-python",
   "name": "python",
   "nbconvert_exporter": "python",
   "pygments_lexer": "ipython3",
   "version": "3.8.5"
  }
 },
 "nbformat": 4,
 "nbformat_minor": 4
}
