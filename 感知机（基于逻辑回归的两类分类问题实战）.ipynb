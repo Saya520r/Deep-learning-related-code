{
 "cells": [
  {
   "cell_type": "code",
   "execution_count": 1,
   "metadata": {},
   "outputs": [],
   "source": [
    "# X(x1,x2) y (0/1/2/3)\n",
    "import numpy as np\n",
    "import matplotlib.pyplot as plt"
   ]
  },
  {
   "cell_type": "code",
   "execution_count": 2,
   "metadata": {},
   "outputs": [],
   "source": [
    "np.random.seed(0)\n",
    "Num = 100"
   ]
  },
  {
   "cell_type": "code",
   "execution_count": 3,
   "metadata": {},
   "outputs": [],
   "source": [
    "x_1 = np.random.normal(-3,1,size = (Num)) #满足高斯分布，参数是中心点，方差，size  \n",
    "x_2 = np.random.normal(-3,1,size = (Num)) #shift tab组合键,函数用法\n",
    "y = np.ones(Num)*-1\n",
    "c_0 = np.array([x_1,x_2,y])"
   ]
  },
  {
   "cell_type": "code",
   "execution_count": 4,
   "metadata": {},
   "outputs": [],
   "source": [
    "x_1 = np.random.normal(3,1,size = (Num)) #满足高斯分布，参数是中心点，方差，size  \n",
    "x_2 = np.random.normal(-3,1,size = (Num)) #shift tab组合键,函数用法\n",
    "y = np.ones(Num)\n",
    "c_1 = np.array([x_1,x_2,y])"
   ]
  },
  {
   "cell_type": "code",
   "execution_count": 5,
   "metadata": {},
   "outputs": [],
   "source": [
    "c_0 = c_0.T\n",
    "c_1 = c_1.T"
   ]
  },
  {
   "cell_type": "code",
   "execution_count": 6,
   "metadata": {},
   "outputs": [
    {
     "data": {
      "text/plain": [
       "<matplotlib.collections.PathCollection at 0x214ebda9ac0>"
      ]
     },
     "execution_count": 6,
     "metadata": {},
     "output_type": "execute_result"
    },
    {
     "data": {
      "image/png": "[encoded data removed]",
      "text/plain": [
       "<Figure size 432x288 with 1 Axes>"
      ]
     },
     "metadata": {
      "needs_background": "light"
     },
     "output_type": "display_data"
    }
   ],
   "source": [
    "plt.scatter(c_0[:,0],c_0[:,1],marker='*')\n",
    "plt.scatter(c_1[:,0],c_1[:,1])"
   ]
  },
  {
   "cell_type": "code",
   "execution_count": 7,
   "metadata": {},
   "outputs": [
    {
     "data": {
      "text/plain": [
       "(200, 3)"
      ]
     },
     "execution_count": 7,
     "metadata": {},
     "output_type": "execute_result"
    }
   ],
   "source": [
    "All_data = np.concatenate((c_0,c_1))\n",
    "np.random.shuffle(All_data)\n",
    "All_data.shape"
   ]
  },
  {
   "cell_type": "code",
   "execution_count": 8,
   "metadata": {},
   "outputs": [
    {
     "data": {
      "text/plain": [
       "((150, 2), (150, 1), (50, 2), (50, 1))"
      ]
     },
     "execution_count": 8,
     "metadata": {},
     "output_type": "execute_result"
    }
   ],
   "source": [
    "train_data_X = All_data[:150,:2] # 取前150个做训练集，后50个作为测试集\n",
    "train_data_y = All_data[:150,-1].reshape(150,1)\n",
    "test_data_X = All_data[150:,:2]\n",
    "test_data_y = All_data[150:,-1].reshape(50,1)\n",
    "train_data_X.shape,train_data_y.shape,test_data_X.shape,test_data_y.shape"
   ]
  },
  {
   "cell_type": "code",
   "execution_count": 9,
   "metadata": {},
   "outputs": [
    {
     "data": {
      "text/plain": [
       "(150, 3)"
      ]
     },
     "execution_count": 9,
     "metadata": {},
     "output_type": "execute_result"
    }
   ],
   "source": [
    "W = np.zeros((2,1))\n",
    "T = 100\n",
    "# 特征，label，在第二个维度拼接\n",
    "train_data = np.concatenate((train_data_X,train_data_y),axis=1)\n",
    "train_data.shape"
   ]
  },
  {
   "cell_type": "code",
   "execution_count": 10,
   "metadata": {},
   "outputs": [],
   "source": [
    "# 训练模型\n",
    "for t in range(T):\n",
    "    np.random.shuffle(train_data)\n",
    "    for i in range(len(train_data)):\n",
    "        # 选择第 i 个样本\n",
    "        pred = np.dot(W.T,(train_data[i][-1]*train_data[i][:2]).reshape(2,1))[0,0]\n",
    "        if pred <= 0:\n",
    "            W = W + (train_data[i][-1]*train_data[i][:2]).reshape(2,1)"
   ]
  },
  {
   "cell_type": "code",
   "execution_count": 15,
   "metadata": {},
   "outputs": [
    {
     "data": {
      "text/plain": [
       "array([[ 4.82450889],\n",
       "       [-0.20314586]])"
      ]
     },
     "execution_count": 15,
     "metadata": {},
     "output_type": "execute_result"
    }
   ],
   "source": [
    "W"
   ]
  },
  {
   "cell_type": "code",
   "execution_count": 14,
   "metadata": {},
   "outputs": [
    {
     "data": {
      "text/plain": [
       "[<matplotlib.lines.Line2D at 0x214ec1be910>]"
      ]
     },
     "execution_count": 14,
     "metadata": {},
     "output_type": "execute_result"
    },
    {
     "data": {
      "image/png": "[encoded data removed]",
      "text/plain": [
       "<Figure size 432x288 with 1 Axes>"
      ]
     },
     "metadata": {
      "needs_background": "light"
     },
     "output_type": "display_data"
    }
   ],
   "source": [
    "plt.scatter(c_0[:,0],c_0[:,1],marker='*')\n",
    "plt.scatter(c_1[:,0],c_1[:,1])\n",
    "x = np.arange(10)\n",
    "y = -(W[0]*x)/W[1]\n",
    "plt.plot(x,y)"
   ]
  }
 ],
 "metadata": {
  "celltoolbar": "原始单元格格式",
  "kernelspec": {
   "display_name": "Python 3",
   "language": "python",
   "name": "python3"
  },
  "language_info": {
   "codemirror_mode": {
    "name": "ipython",
    "version": 3
   },
   "file_extension": ".py",
   "mimetype": "text/x-python",
   "name": "python",
   "nbconvert_exporter": "python",
   "pygments_lexer": "ipython3",
   "version": "3.8.5"
  }
 },
 "nbformat": 4,
 "nbformat_minor": 4
}
