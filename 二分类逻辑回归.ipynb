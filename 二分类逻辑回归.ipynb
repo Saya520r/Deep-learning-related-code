{
 "cells": [
  {
   "cell_type": "code",
   "execution_count": 71,
   "metadata": {},
   "outputs": [],
   "source": [
    "import numpy as np\n",
    "import matplotlib.pyplot as plt"
   ]
  },
  {
   "cell_type": "code",
   "execution_count": 72,
   "metadata": {},
   "outputs": [],
   "source": [
    "np.random.seed(0) \n",
    "Num = 100"
   ]
  },
  {
   "cell_type": "code",
   "execution_count": 73,
   "metadata": {},
   "outputs": [
    {
     "data": {
      "text/plain": [
       "(3, 100)"
      ]
     },
     "execution_count": 73,
     "metadata": {},
     "output_type": "execute_result"
    }
   ],
   "source": [
    "# x(x1,x2) y 0/1\n",
    "# y = 1\n",
    "x_1 = np.random.normal(6,1,size = (Num)) #满足高斯分布，参数是中心点，方差，size  \n",
    "x_2 = np.random.normal(3,1,size = (Num)) #shift tab组合键,函数用法\n",
    "y = np.ones(Num)\n",
    "c_1 = np.array([x_1,x_2,y])\n",
    "c_1.shape"
   ]
  },
  {
   "cell_type": "code",
   "execution_count": 74,
   "metadata": {},
   "outputs": [
    {
     "data": {
      "text/plain": [
       "(3, 100)"
      ]
     },
     "execution_count": 74,
     "metadata": {},
     "output_type": "execute_result"
    }
   ],
   "source": [
    "# y = 0\n",
    "x_1 = np.random.normal(3,1,size = (Num)) #满足高斯分布，参数是中心点，方差，size  \n",
    "x_2 = np.random.normal(6,1,size = (Num)) #shift tab组合键,函数用法\n",
    "y = np.zeros(Num)\n",
    "c_0 = np.array([x_1,x_2,y])\n",
    "c_0.shape"
   ]
  },
  {
   "cell_type": "code",
   "execution_count": 75,
   "metadata": {},
   "outputs": [],
   "source": [
    "c_1 = c_1.T\n",
    "c_0 = c_0.T"
   ]
  },
  {
   "cell_type": "code",
   "execution_count": 156,
   "metadata": {},
   "outputs": [
    {
     "data": {
      "text/plain": [
       "<matplotlib.collections.PathCollection at 0x1e3cd006250>"
      ]
     },
     "execution_count": 156,
     "metadata": {},
     "output_type": "execute_result"
    },
    {
     "data": {
      "image/png": "[encoded data removed]",
      "text/plain": [
       "<Figure size 432x288 with 1 Axes>"
      ]
     },
     "metadata": {
      "needs_background": "light"
     },
     "output_type": "display_data"
    }
   ],
   "source": [
    "plt.scatter(c_1[:,0],c_1[:,1])\n",
    "plt.scatter(c_0[:,0],c_1[:,1],marker = '*')"
   ]
  },
  {
   "cell_type": "code",
   "execution_count": 77,
   "metadata": {},
   "outputs": [
    {
     "data": {
      "text/plain": [
       "(200, 3)"
      ]
     },
     "execution_count": 77,
     "metadata": {},
     "output_type": "execute_result"
    }
   ],
   "source": [
    "All_data = np.concatenate((c_1,c_0))\n",
    "#在行上进行拼接，变成200行3列\n",
    "All_data.shape"
   ]
  },
  {
   "cell_type": "code",
   "execution_count": 44,
   "metadata": {},
   "outputs": [],
   "source": [
    "np.random.shuffle(All_data)"
   ]
  },
  {
   "cell_type": "code",
   "execution_count": 157,
   "metadata": {},
   "outputs": [
    {
     "data": {
      "text/plain": [
       "((150, 2), (150,))"
      ]
     },
     "execution_count": 157,
     "metadata": {},
     "output_type": "execute_result"
    }
   ],
   "source": [
    "train_data_x = All_data[:150,:2] #取前150个 前两列\n",
    "train_data_y = All_data[:150,2]\n",
    "test_data_x = All_data[150:,:2] #取后50个 前两列\n",
    "test_data_y = All_data[150:,-1]\n",
    "train_data_x.shape,train_data_y.shape"
   ]
  },
  {
   "cell_type": "code",
   "execution_count": 105,
   "metadata": {},
   "outputs": [
    {
     "data": {
      "text/plain": [
       "array([[0.53053721],\n",
       "       [0.92211146]])"
      ]
     },
     "execution_count": 105,
     "metadata": {},
     "output_type": "execute_result"
    }
   ],
   "source": [
    "# y=w1*x1+w2*x2\n",
    "w = np.random.rand(2,1)\n",
    "w"
   ]
  },
  {
   "cell_type": "code",
   "execution_count": 158,
   "metadata": {},
   "outputs": [
    {
     "data": {
      "text/plain": [
       "[<matplotlib.lines.Line2D at 0x1e3cd06d190>]"
      ]
     },
     "execution_count": 158,
     "metadata": {},
     "output_type": "execute_result"
    },
    {
     "data": {
      "image/png": "[encoded data removed]",
      "text/plain": [
       "<Figure size 432x288 with 1 Axes>"
      ]
     },
     "metadata": {
      "needs_background": "light"
     },
     "output_type": "display_data"
    }
   ],
   "source": [
    "# y=w1*x1+w2*x2 =0\n",
    "# w1*x1+w2*y=0\n",
    "plt.scatter(c_1[:,0],c_1[:,1])\n",
    "plt.scatter(c_0[:,0],c_0[:,1],marker ='*')\n",
    "x = np.arange(10)\n",
    "y = -(w[0]*x)/w[1]\n",
    "plt.plot(x,y)"
   ]
  },
  {
   "cell_type": "code",
   "execution_count": 107,
   "metadata": {},
   "outputs": [],
   "source": [
    "#定义损失函数,交叉熵\n",
    "def cross_entropy(y,y_hat):\n",
    "    return -np.mean(y*np.log(y_hat)+(1-y)*np.log(1-y_hat))"
   ]
  },
  {
   "cell_type": "code",
   "execution_count": 108,
   "metadata": {},
   "outputs": [],
   "source": [
    "#y_hat=sigmoid(w*x)\n",
    "def sigmoid(z):\n",
    "    return 1./(1+np.exp(-z))"
   ]
  },
  {
   "cell_type": "code",
   "execution_count": 109,
   "metadata": {},
   "outputs": [
    {
     "data": {
      "text/plain": [
       "((2, 1), (150, 2))"
      ]
     },
     "execution_count": 109,
     "metadata": {},
     "output_type": "execute_result"
    }
   ],
   "source": [
    "w.shape,train_data_x.shape"
   ]
  },
  {
   "cell_type": "code",
   "execution_count": 135,
   "metadata": {},
   "outputs": [
    {
     "data": {
      "text/plain": [
       "((150, 2), (150,), (1, 50))"
      ]
     },
     "execution_count": 135,
     "metadata": {},
     "output_type": "execute_result"
    }
   ],
   "source": [
    "train_data_x.shape,train_data_y.shape,y_hat.shape"
   ]
  },
  {
   "cell_type": "code",
   "execution_count": 159,
   "metadata": {},
   "outputs": [
    {
     "name": "stdout",
     "output_type": "stream",
     "text": [
      "i: 1,loss: 0.121847\n",
      "i: 11,loss: 0.121644\n",
      "i: 21,loss: 0.121443\n",
      "i: 31,loss: 0.121242\n",
      "i: 41,loss: 0.121042\n",
      "i: 51,loss: 0.120842\n",
      "i: 61,loss: 0.120644\n",
      "i: 71,loss: 0.120447\n",
      "i: 81,loss: 0.120251\n",
      "i: 91,loss: 0.120055\n",
      "i: 101,loss: 0.119861\n",
      "i: 111,loss: 0.119667\n",
      "i: 121,loss: 0.119474\n",
      "i: 131,loss: 0.119282\n",
      "i: 141,loss: 0.119091\n",
      "i: 151,loss: 0.118901\n",
      "i: 161,loss: 0.118711\n",
      "i: 171,loss: 0.118523\n",
      "i: 181,loss: 0.118335\n",
      "i: 191,loss: 0.118148\n",
      "i: 201,loss: 0.117962\n",
      "i: 211,loss: 0.117777\n",
      "i: 221,loss: 0.117592\n",
      "i: 231,loss: 0.117409\n",
      "i: 241,loss: 0.117226\n",
      "i: 251,loss: 0.117044\n",
      "i: 261,loss: 0.116862\n",
      "i: 271,loss: 0.116682\n",
      "i: 281,loss: 0.116502\n",
      "i: 291,loss: 0.116324\n",
      "i: 301,loss: 0.116145\n",
      "i: 311,loss: 0.115968\n",
      "i: 321,loss: 0.115791\n",
      "i: 331,loss: 0.115616\n",
      "i: 341,loss: 0.115441\n",
      "i: 351,loss: 0.115266\n",
      "i: 361,loss: 0.115093\n",
      "i: 371,loss: 0.114920\n",
      "i: 381,loss: 0.114748\n",
      "i: 391,loss: 0.114576\n",
      "i: 401,loss: 0.114406\n",
      "i: 411,loss: 0.114236\n",
      "i: 421,loss: 0.114066\n",
      "i: 431,loss: 0.113898\n",
      "i: 441,loss: 0.113730\n",
      "i: 451,loss: 0.113563\n",
      "i: 461,loss: 0.113397\n",
      "i: 471,loss: 0.113231\n",
      "i: 481,loss: 0.113066\n",
      "i: 491,loss: 0.112901\n",
      "i: 501,loss: 0.112738\n",
      "i: 511,loss: 0.112575\n",
      "i: 521,loss: 0.112412\n",
      "i: 531,loss: 0.112251\n",
      "i: 541,loss: 0.112090\n",
      "i: 551,loss: 0.111929\n",
      "i: 561,loss: 0.111769\n",
      "i: 571,loss: 0.111610\n",
      "i: 581,loss: 0.111452\n",
      "i: 591,loss: 0.111294\n",
      "i: 601,loss: 0.111137\n",
      "i: 611,loss: 0.110980\n",
      "i: 621,loss: 0.110824\n",
      "i: 631,loss: 0.110669\n",
      "i: 641,loss: 0.110515\n",
      "i: 651,loss: 0.110360\n",
      "i: 661,loss: 0.110207\n",
      "i: 671,loss: 0.110054\n",
      "i: 681,loss: 0.109902\n",
      "i: 691,loss: 0.109750\n",
      "i: 701,loss: 0.109599\n",
      "i: 711,loss: 0.109449\n",
      "i: 721,loss: 0.109299\n",
      "i: 731,loss: 0.109150\n",
      "i: 741,loss: 0.109001\n",
      "i: 751,loss: 0.108853\n",
      "i: 761,loss: 0.108705\n",
      "i: 771,loss: 0.108558\n",
      "i: 781,loss: 0.108412\n",
      "i: 791,loss: 0.108266\n",
      "i: 801,loss: 0.108121\n",
      "i: 811,loss: 0.107976\n",
      "i: 821,loss: 0.107832\n",
      "i: 831,loss: 0.107688\n",
      "i: 841,loss: 0.107545\n",
      "i: 851,loss: 0.107403\n",
      "i: 861,loss: 0.107261\n",
      "i: 871,loss: 0.107119\n",
      "i: 881,loss: 0.106979\n",
      "i: 891,loss: 0.106838\n",
      "i: 901,loss: 0.106698\n",
      "i: 911,loss: 0.106559\n",
      "i: 921,loss: 0.106420\n",
      "i: 931,loss: 0.106282\n",
      "i: 941,loss: 0.106144\n",
      "i: 951,loss: 0.106007\n",
      "i: 961,loss: 0.105870\n",
      "i: 971,loss: 0.105734\n",
      "i: 981,loss: 0.105598\n",
      "i: 991,loss: 0.105463\n"
     ]
    }
   ],
   "source": [
    "lr = 0.001\n",
    "for i in range(1000):\n",
    "    #计算loss值\n",
    "    y_hat = sigmoid(np.dot(w.T,train_data_x.T))\n",
    "    loss = cross_entropy(train_data_y,y_hat)\n",
    "    #计算梯度\n",
    "    grad =  - np.mean((train_data_x*(train_data_y.reshape(1,150)-y_hat).T),axis = 0 )\n",
    "    # 更新w\n",
    "    w = w-(lr*grad).reshape(2,1)\n",
    "    # 输出\n",
    "    if i%10 == 1:\n",
    "        print(\"i: %d,loss: %f\"%(i,loss))\n",
    "    if loss < 0.1:\n",
    "        break"
   ]
  },
  {
   "cell_type": "code",
   "execution_count": 152,
   "metadata": {},
   "outputs": [
    {
     "data": {
      "text/plain": [
       "array([[ 0.87814838],\n",
       "       [-0.76967921]])"
      ]
     },
     "execution_count": 152,
     "metadata": {},
     "output_type": "execute_result"
    }
   ],
   "source": [
    "w"
   ]
  },
  {
   "cell_type": "code",
   "execution_count": 160,
   "metadata": {},
   "outputs": [
    {
     "data": {
      "text/plain": [
       "[<matplotlib.lines.Line2D at 0x1e3ce08e9d0>]"
      ]
     },
     "execution_count": 160,
     "metadata": {},
     "output_type": "execute_result"
    },
    {
     "data": {
      "image/png": "[encoded data removed]",
      "text/plain": [
       "<Figure size 432x288 with 1 Axes>"
      ]
     },
     "metadata": {
      "needs_background": "light"
     },
     "output_type": "display_data"
    }
   ],
   "source": [
    "plt.scatter(c_1[:,0],c_1[:,1])\n",
    "plt.scatter(c_0[:,0],c_0[:,1],marker ='*')\n",
    "x = np.arange(10)\n",
    "y = -(w[0]*x)/w[1]\n",
    "plt.plot(x,y)"
   ]
  },
  {
   "cell_type": "code",
   "execution_count": 161,
   "metadata": {},
   "outputs": [
    {
     "data": {
      "text/plain": [
       "(50, 2)"
      ]
     },
     "execution_count": 161,
     "metadata": {},
     "output_type": "execute_result"
    }
   ],
   "source": [
    "#预测\n",
    "# y_hat= w1*x1+w2*x2\n",
    "test_data_x.shape"
   ]
  },
  {
   "cell_type": "code",
   "execution_count": 163,
   "metadata": {},
   "outputs": [
    {
     "data": {
      "text/plain": [
       "0.94"
      ]
     },
     "execution_count": 163,
     "metadata": {},
     "output_type": "execute_result"
    }
   ],
   "source": [
    "y_hat = np.dot(w.T,test_data_x.T)\n",
    "y_pred = np.array(y_hat>0,dtype = int).flatten()\n",
    "y_pred.shape\n",
    "test_acc =np.sum(test_data_y==y_pred)/len(y_pred) \n",
    "test_acc"
   ]
  }
 ],
 "metadata": {
  "kernelspec": {
   "display_name": "Python 3",
   "language": "python",
   "name": "python3"
  },
  "language_info": {
   "codemirror_mode": {
    "name": "ipython",
    "version": 3
   },
   "file_extension": ".py",
   "mimetype": "text/x-python",
   "name": "python",
   "nbconvert_exporter": "python",
   "pygments_lexer": "ipython3",
   "version": "3.8.5"
  }
 },
 "nbformat": 4,
 "nbformat_minor": 4
}
