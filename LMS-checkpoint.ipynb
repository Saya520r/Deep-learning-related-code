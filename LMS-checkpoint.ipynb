{
 "cells": [
  {
   "cell_type": "markdown",
   "metadata": {},
   "source": [
    "# 最小二乘法求一元线性回归\n",
    "$y=4x +2$\n",
    "## 构造数据集"
   ]
  },
  {
   "cell_type": "code",
   "execution_count": 1,
   "metadata": {},
   "outputs": [],
   "source": [
    "import numpy as np"
   ]
  },
  {
   "cell_type": "code",
   "execution_count": 2,
   "metadata": {},
   "outputs": [],
   "source": [
    "np.random.seed(0)"
   ]
  },
  {
   "cell_type": "code",
   "execution_count": 3,
   "metadata": {},
   "outputs": [],
   "source": [
    "X = np.random.normal(size=(100,1),scale=1) #100行1列，100个样本，每个样本一个特征"
   ]
  },
  {
   "cell_type": "code",
   "execution_count": 4,
   "metadata": {},
   "outputs": [],
   "source": [
    "y =4 * X[:,0] + 2 "
   ]
  },
  {
   "cell_type": "code",
   "execution_count": 5,
   "metadata": {},
   "outputs": [],
   "source": [
    "import matplotlib.pyplot as plt"
   ]
  },
  {
   "cell_type": "code",
   "execution_count": 6,
   "metadata": {},
   "outputs": [
    {
     "data": {
      "text/plain": [
       "<matplotlib.collections.PathCollection at 0x25b78be6520>"
      ]
     },
     "execution_count": 6,
     "metadata": {},
     "output_type": "execute_result"
    },
    {
     "data": {
      "image/png": "[encoded data removed]",
      "text/plain": [
       "<Figure size 432x288 with 1 Axes>"
      ]
     },
     "metadata": {
      "needs_background": "light"
     },
     "output_type": "display_data"
    }
   ],
   "source": [
    "plt.scatter(X,y)"
   ]
  },
  {
   "cell_type": "code",
   "execution_count": 7,
   "metadata": {},
   "outputs": [
    {
     "data": {
      "text/plain": [
       "((100,), (100, 1))"
      ]
     },
     "execution_count": 7,
     "metadata": {},
     "output_type": "execute_result"
    }
   ],
   "source": [
    "y.shape,X.shape"
   ]
  },
  {
   "cell_type": "code",
   "execution_count": 8,
   "metadata": {},
   "outputs": [
    {
     "data": {
      "text/plain": [
       "(100, 2)"
      ]
     },
     "execution_count": 8,
     "metadata": {},
     "output_type": "execute_result"
    }
   ],
   "source": [
    "All_data = np.concatenate((X,y.reshape(100,1)),axis = 1)\n",
    "All_data.shape"
   ]
  },
  {
   "cell_type": "code",
   "execution_count": 9,
   "metadata": {},
   "outputs": [],
   "source": [
    "# 拆分为训练集和测试集\n",
    "np.random.shuffle(All_data)\n",
    "train_data = All_data[:70,:]\n",
    "test_data = All_data[70:,:]"
   ]
  },
  {
   "cell_type": "markdown",
   "metadata": {},
   "source": [
    "## 构造模型\n",
    "$y = W*X + b$"
   ]
  },
  {
   "cell_type": "code",
   "execution_count": 10,
   "metadata": {},
   "outputs": [
    {
     "data": {
      "text/plain": [
       "(array([-1.55602368]), 0.25435648177039294)"
      ]
     },
     "execution_count": 10,
     "metadata": {},
     "output_type": "execute_result"
    }
   ],
   "source": [
    "# 随机初始化参数\n",
    "W = np.random.normal(size =(1))\n",
    "b = np.random.rand()\n",
    "W, b"
   ]
  },
  {
   "cell_type": "markdown",
   "metadata": {},
   "source": [
    "$Loss = 0.5*\\sum(y-Wx)^2$"
   ]
  },
  {
   "cell_type": "code",
   "execution_count": 11,
   "metadata": {},
   "outputs": [],
   "source": [
    "lr = 0.001 # 学习率"
   ]
  },
  {
   "cell_type": "code",
   "execution_count": 12,
   "metadata": {},
   "outputs": [
    {
     "data": {
      "text/plain": [
       "(2, 1)"
      ]
     },
     "execution_count": 12,
     "metadata": {},
     "output_type": "execute_result"
    }
   ],
   "source": [
    "# 构造增广权重向量\n",
    "W_hat = np.concatenate((W,np.array([b])))\n",
    "W_hat = W_hat.reshape(2,1)\n",
    "W_hat.shape"
   ]
  },
  {
   "cell_type": "code",
   "execution_count": 13,
   "metadata": {},
   "outputs": [
    {
     "data": {
      "text/plain": [
       "(1, 70)"
      ]
     },
     "execution_count": 13,
     "metadata": {},
     "output_type": "execute_result"
    }
   ],
   "source": [
    "X = train_data[:,:-1]\n",
    "X = X.reshape(1,70)\n",
    "y = train_data[:,-1]\n",
    "X.shape"
   ]
  },
  {
   "cell_type": "code",
   "execution_count": 14,
   "metadata": {},
   "outputs": [
    {
     "data": {
      "text/plain": [
       "(2, 70)"
      ]
     },
     "execution_count": 14,
     "metadata": {},
     "output_type": "execute_result"
    }
   ],
   "source": [
    "# 构造增广特征向量\n",
    "X_hat = np.concatenate((X,np.ones((1,70))),axis =0)\n",
    "X_hat.shape"
   ]
  },
  {
   "cell_type": "code",
   "execution_count": 15,
   "metadata": {},
   "outputs": [
    {
     "data": {
      "text/plain": [
       "((2, 70), (2, 1))"
      ]
     },
     "execution_count": 15,
     "metadata": {},
     "output_type": "execute_result"
    }
   ],
   "source": [
    "X_hat.shape,W_hat.shape"
   ]
  },
  {
   "cell_type": "code",
   "execution_count": 16,
   "metadata": {},
   "outputs": [
    {
     "data": {
      "text/plain": [
       "(70, 1)"
      ]
     },
     "execution_count": 16,
     "metadata": {},
     "output_type": "execute_result"
    }
   ],
   "source": [
    "( y.reshape(70,1) - np.dot(X_hat.T,W_hat ) ).shape"
   ]
  },
  {
   "cell_type": "code",
   "execution_count": 17,
   "metadata": {},
   "outputs": [
    {
     "name": "stdout",
     "output_type": "stream",
     "text": [
      "Num : 2 , Loss : 1002.255625\n",
      "Num : 3 , Loss : 870.034035\n",
      "Num : 4 , Loss : 755.319127\n",
      "Num : 5 , Loss : 655.784093\n",
      "Num : 6 , Loss : 569.412613\n",
      "Num : 7 , Loss : 494.457247\n",
      "Num : 8 , Loss : 429.403439\n",
      "Num : 9 , Loss : 372.938348\n",
      "Num : 10 , Loss : 323.923880\n",
      "Num : 11 , Loss : 281.373328\n",
      "Num : 12 , Loss : 244.431161\n",
      "Num : 13 , Loss : 212.355510\n",
      "Num : 14 , Loss : 184.503010\n",
      "Num : 15 , Loss : 160.315670\n",
      "Num : 16 , Loss : 139.309497\n",
      "Num : 17 , Loss : 121.064647\n",
      "Num : 18 , Loss : 105.216890\n",
      "Num : 19 , Loss : 91.450212\n",
      "Num : 20 , Loss : 79.490412\n",
      "Num : 21 , Loss : 69.099545\n",
      "Num : 22 , Loss : 60.071111\n",
      "Num : 23 , Loss : 52.225886\n",
      "Num : 24 , Loss : 45.408305\n",
      "Num : 25 , Loss : 39.483324\n",
      "Num : 26 , Loss : 34.333708\n",
      "Num : 27 , Loss : 29.857671\n",
      "Num : 28 , Loss : 25.966835\n",
      "Num : 29 , Loss : 22.584454\n",
      "Num : 30 , Loss : 19.643882\n",
      "Num : 31 , Loss : 17.087237\n",
      "Num : 32 , Loss : 14.864242\n",
      "Num : 33 , Loss : 12.931229\n",
      "Num : 34 , Loss : 11.250259\n",
      "Num : 35 , Loss : 9.788376\n",
      "Num : 36 , Loss : 8.516943\n",
      "Num : 37 , Loss : 7.411081\n",
      "Num : 38 , Loss : 6.449167\n",
      "Num : 39 , Loss : 5.612415\n",
      "Num : 40 , Loss : 4.884493\n",
      "Num : 41 , Loss : 4.251210\n",
      "Num : 42 , Loss : 3.700229\n",
      "Num : 43 , Loss : 3.220826\n",
      "Num : 44 , Loss : 2.803678\n",
      "Num : 45 , Loss : 2.440681\n",
      "Num : 46 , Loss : 2.124788\n",
      "Num : 47 , Loss : 1.849871\n",
      "Num : 48 , Loss : 1.610603\n",
      "Num : 49 , Loss : 1.402349\n",
      "Num : 50 , Loss : 1.221080\n",
      "Num : 51 , Loss : 1.063291\n",
      "Num : 52 , Loss : 0.925933\n"
     ]
    }
   ],
   "source": [
    "Num = 1\n",
    "w_list = []\n",
    "b_list = []  \n",
    "Loss_list = []\n",
    "while True:\n",
    "    # 更新参数\n",
    "    W_hat = W_hat + lr * np.dot( X_hat ,( y.reshape(70,1) - np.dot(X_hat.T,W_hat ) ) )\n",
    "    # 计算经验错误\n",
    "    Loss = np.sum(( y.reshape(70,1) - np.dot(X_hat.T,W_hat ))**2 )/2\n",
    "    # 记录 w,b 和 Loss\n",
    "    w_list.append(W_hat[0])\n",
    "    b_list.append(W_hat[1])\n",
    "    Loss_list.append(Loss)\n",
    "    Num = Num + 1\n",
    "    print(\"Num : %d , Loss : %f\"%(Num,Loss))\n",
    "    if Loss < 1 or Num > 1000:\n",
    "        break\n",
    "    "
   ]
  },
  {
   "cell_type": "code",
   "execution_count": 18,
   "metadata": {},
   "outputs": [
    {
     "data": {
      "text/plain": [
       "0.9259333687888875"
      ]
     },
     "execution_count": 18,
     "metadata": {},
     "output_type": "execute_result"
    }
   ],
   "source": [
    "Loss"
   ]
  },
  {
   "cell_type": "code",
   "execution_count": 19,
   "metadata": {},
   "outputs": [
    {
     "data": {
      "text/plain": [
       "(2, 1)"
      ]
     },
     "execution_count": 19,
     "metadata": {},
     "output_type": "execute_result"
    }
   ],
   "source": [
    "W_hat.shape"
   ]
  },
  {
   "cell_type": "code",
   "execution_count": 21,
   "metadata": {},
   "outputs": [
    {
     "data": {
      "text/plain": [
       "array([1.92006704])"
      ]
     },
     "execution_count": 21,
     "metadata": {},
     "output_type": "execute_result"
    }
   ],
   "source": [
    "W_hat[-1]"
   ]
  },
  {
   "cell_type": "code",
   "execution_count": 27,
   "metadata": {},
   "outputs": [
    {
     "data": {
      "text/plain": [
       "(array([3.85376599]), array([1.92006704]))"
      ]
     },
     "execution_count": 27,
     "metadata": {},
     "output_type": "execute_result"
    }
   ],
   "source": [
    "w_list[-1],b_list[-1]"
   ]
  },
  {
   "cell_type": "code",
   "execution_count": 30,
   "metadata": {},
   "outputs": [
    {
     "data": {
      "text/plain": [
       "[<matplotlib.lines.Line2D at 0x25b78df8f40>]"
      ]
     },
     "execution_count": 30,
     "metadata": {},
     "output_type": "execute_result"
    },
    {
     "data": {
      "image/png": "[encoded data removed]",
      "text/plain": [
       "<Figure size 432x288 with 1 Axes>"
      ]
     },
     "metadata": {
      "needs_background": "light"
     },
     "output_type": "display_data"
    }
   ],
   "source": [
    "plt.plot(Loss_list)"
   ]
  },
  {
   "cell_type": "code",
   "execution_count": 31,
   "metadata": {},
   "outputs": [
    {
     "data": {
      "text/plain": [
       "[<matplotlib.lines.Line2D at 0x25b78e56d00>]"
      ]
     },
     "execution_count": 31,
     "metadata": {},
     "output_type": "execute_result"
    },
    {
     "data": {
      "image/png": "[encoded data removed]",
      "text/plain": [
       "<Figure size 432x288 with 1 Axes>"
      ]
     },
     "metadata": {
      "needs_background": "light"
     },
     "output_type": "display_data"
    }
   ],
   "source": [
    "plt.plot(w_list)\n",
    "plt.plot(b_list)"
   ]
  }
 ],
 "metadata": {
  "kernelspec": {
   "display_name": "Python 3",
   "language": "python",
   "name": "python3"
  },
  "language_info": {
   "codemirror_mode": {
    "name": "ipython",
    "version": 3
   },
   "file_extension": ".py",
   "mimetype": "text/x-python",
   "name": "python",
   "nbconvert_exporter": "python",
   "pygments_lexer": "ipython3",
   "version": "3.8.5"
  }
 },
 "nbformat": 4,
 "nbformat_minor": 4
}
